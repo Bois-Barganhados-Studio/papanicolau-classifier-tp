{
 "cells": [
  {
   "cell_type": "markdown",
   "metadata": {},
   "source": [
    "### Install and Import Packages"
   ]
  },
  {
   "cell_type": "code",
   "execution_count": 41,
   "metadata": {},
   "outputs": [
    {
     "name": "stdout",
     "output_type": "stream",
     "text": [
      "Requirement already satisfied: pandas in c:\\users\\felipe\\appdata\\local\\programs\\python\\python310\\lib\\site-packages (1.5.3)\n",
      "Requirement already satisfied: python-dateutil>=2.8.1 in c:\\users\\felipe\\appdata\\roaming\\python\\python310\\site-packages (from pandas) (2.8.2)\n",
      "Requirement already satisfied: pytz>=2020.1 in c:\\users\\felipe\\appdata\\local\\programs\\python\\python310\\lib\\site-packages (from pandas) (2022.7.1)\n",
      "Requirement already satisfied: numpy>=1.21.0 in c:\\users\\felipe\\appdata\\local\\programs\\python\\python310\\lib\\site-packages (from pandas) (1.24.2)\n",
      "Requirement already satisfied: six>=1.5 in c:\\users\\felipe\\appdata\\roaming\\python\\python310\\site-packages (from python-dateutil>=2.8.1->pandas) (1.16.0)\n",
      "Requirement already satisfied: Image in c:\\users\\felipe\\appdata\\local\\programs\\python\\python310\\lib\\site-packages (1.5.33)\n",
      "Requirement already satisfied: pillow in c:\\users\\felipe\\appdata\\local\\programs\\python\\python310\\lib\\site-packages (from Image) (9.4.0)\n",
      "Requirement already satisfied: django in c:\\users\\felipe\\appdata\\local\\programs\\python\\python310\\lib\\site-packages (from Image) (5.0.6)\n",
      "Requirement already satisfied: six in c:\\users\\felipe\\appdata\\roaming\\python\\python310\\site-packages (from Image) (1.16.0)\n",
      "Requirement already satisfied: asgiref<4,>=3.7.0 in c:\\users\\felipe\\appdata\\local\\programs\\python\\python310\\lib\\site-packages (from django->Image) (3.8.1)\n",
      "Requirement already satisfied: sqlparse>=0.3.1 in c:\\users\\felipe\\appdata\\local\\programs\\python\\python310\\lib\\site-packages (from django->Image) (0.5.0)\n",
      "Requirement already satisfied: tzdata in c:\\users\\felipe\\appdata\\local\\programs\\python\\python310\\lib\\site-packages (from django->Image) (2024.1)\n",
      "Requirement already satisfied: typing-extensions>=4 in c:\\users\\felipe\\appdata\\local\\programs\\python\\python310\\lib\\site-packages (from asgiref<4,>=3.7.0->django->Image) (4.12.1)\n",
      "Requirement already satisfied: matplotlib in c:\\users\\felipe\\appdata\\local\\programs\\python\\python310\\lib\\site-packages (3.7.0)\n",
      "Requirement already satisfied: contourpy>=1.0.1 in c:\\users\\felipe\\appdata\\local\\programs\\python\\python310\\lib\\site-packages (from matplotlib) (1.0.7)\n",
      "Requirement already satisfied: cycler>=0.10 in c:\\users\\felipe\\appdata\\local\\programs\\python\\python310\\lib\\site-packages (from matplotlib) (0.11.0)\n",
      "Requirement already satisfied: fonttools>=4.22.0 in c:\\users\\felipe\\appdata\\local\\programs\\python\\python310\\lib\\site-packages (from matplotlib) (4.38.0)\n",
      "Requirement already satisfied: kiwisolver>=1.0.1 in c:\\users\\felipe\\appdata\\local\\programs\\python\\python310\\lib\\site-packages (from matplotlib) (1.4.4)\n",
      "Requirement already satisfied: numpy>=1.20 in c:\\users\\felipe\\appdata\\local\\programs\\python\\python310\\lib\\site-packages (from matplotlib) (1.24.2)\n",
      "Requirement already satisfied: packaging>=20.0 in c:\\users\\felipe\\appdata\\roaming\\python\\python310\\site-packages (from matplotlib) (23.0)\n",
      "Requirement already satisfied: pillow>=6.2.0 in c:\\users\\felipe\\appdata\\local\\programs\\python\\python310\\lib\\site-packages (from matplotlib) (9.4.0)\n",
      "Requirement already satisfied: pyparsing>=2.3.1 in c:\\users\\felipe\\appdata\\local\\programs\\python\\python310\\lib\\site-packages (from matplotlib) (3.0.9)\n",
      "Requirement already satisfied: python-dateutil>=2.7 in c:\\users\\felipe\\appdata\\roaming\\python\\python310\\site-packages (from matplotlib) (2.8.2)\n",
      "Requirement already satisfied: six>=1.5 in c:\\users\\felipe\\appdata\\roaming\\python\\python310\\site-packages (from python-dateutil>=2.7->matplotlib) (1.16.0)\n",
      "Requirement already satisfied: numpy in c:\\users\\felipe\\appdata\\local\\programs\\python\\python310\\lib\\site-packages (1.24.2)\n",
      "Requirement already satisfied: scikit-image in c:\\users\\felipe\\appdata\\local\\programs\\python\\python310\\lib\\site-packages (0.23.2)\n",
      "Requirement already satisfied: numpy>=1.23 in c:\\users\\felipe\\appdata\\local\\programs\\python\\python310\\lib\\site-packages (from scikit-image) (1.24.2)\n",
      "Requirement already satisfied: scipy>=1.9 in c:\\users\\felipe\\appdata\\local\\programs\\python\\python310\\lib\\site-packages (from scikit-image) (1.10.1)\n",
      "Requirement already satisfied: networkx>=2.8 in c:\\users\\felipe\\appdata\\local\\programs\\python\\python310\\lib\\site-packages (from scikit-image) (3.3)\n",
      "Requirement already satisfied: pillow>=9.1 in c:\\users\\felipe\\appdata\\local\\programs\\python\\python310\\lib\\site-packages (from scikit-image) (9.4.0)\n",
      "Requirement already satisfied: imageio>=2.33 in c:\\users\\felipe\\appdata\\local\\programs\\python\\python310\\lib\\site-packages (from scikit-image) (2.34.1)\n",
      "Requirement already satisfied: tifffile>=2022.8.12 in c:\\users\\felipe\\appdata\\local\\programs\\python\\python310\\lib\\site-packages (from scikit-image) (2024.5.22)\n",
      "Requirement already satisfied: packaging>=21 in c:\\users\\felipe\\appdata\\roaming\\python\\python310\\site-packages (from scikit-image) (23.0)\n",
      "Requirement already satisfied: lazy-loader>=0.4 in c:\\users\\felipe\\appdata\\local\\programs\\python\\python310\\lib\\site-packages (from scikit-image) (0.4)\n",
      "Requirement already satisfied: mahotas in c:\\users\\felipe\\appdata\\local\\programs\\python\\python310\\lib\\site-packages (1.4.15)\n",
      "Requirement already satisfied: numpy in c:\\users\\felipe\\appdata\\local\\programs\\python\\python310\\lib\\site-packages (from mahotas) (1.24.2)\n",
      "Requirement already satisfied: scikit-learn in c:\\users\\felipe\\appdata\\local\\programs\\python\\python310\\lib\\site-packages (1.2.1)\n",
      "Requirement already satisfied: numpy>=1.17.3 in c:\\users\\felipe\\appdata\\local\\programs\\python\\python310\\lib\\site-packages (from scikit-learn) (1.24.2)\n",
      "Requirement already satisfied: scipy>=1.3.2 in c:\\users\\felipe\\appdata\\local\\programs\\python\\python310\\lib\\site-packages (from scikit-learn) (1.10.1)\n",
      "Requirement already satisfied: joblib>=1.1.1 in c:\\users\\felipe\\appdata\\local\\programs\\python\\python310\\lib\\site-packages (from scikit-learn) (1.2.0)\n",
      "Requirement already satisfied: threadpoolctl>=2.0.0 in c:\\users\\felipe\\appdata\\local\\programs\\python\\python310\\lib\\site-packages (from scikit-learn) (3.1.0)\n",
      "Requirement already satisfied: opencv-python in c:\\users\\felipe\\appdata\\local\\programs\\python\\python310\\lib\\site-packages (4.10.0.82)\n",
      "Requirement already satisfied: numpy>=1.21.2 in c:\\users\\felipe\\appdata\\local\\programs\\python\\python310\\lib\\site-packages (from opencv-python) (1.24.2)\n",
      "Requirement already satisfied: seaborn in c:\\users\\felipe\\appdata\\local\\programs\\python\\python310\\lib\\site-packages (0.12.2)\n",
      "Requirement already satisfied: numpy!=1.24.0,>=1.17 in c:\\users\\felipe\\appdata\\local\\programs\\python\\python310\\lib\\site-packages (from seaborn) (1.24.2)\n",
      "Requirement already satisfied: pandas>=0.25 in c:\\users\\felipe\\appdata\\local\\programs\\python\\python310\\lib\\site-packages (from seaborn) (1.5.3)\n",
      "Requirement already satisfied: matplotlib!=3.6.1,>=3.1 in c:\\users\\felipe\\appdata\\local\\programs\\python\\python310\\lib\\site-packages (from seaborn) (3.7.0)\n",
      "Requirement already satisfied: contourpy>=1.0.1 in c:\\users\\felipe\\appdata\\local\\programs\\python\\python310\\lib\\site-packages (from matplotlib!=3.6.1,>=3.1->seaborn) (1.0.7)\n",
      "Requirement already satisfied: cycler>=0.10 in c:\\users\\felipe\\appdata\\local\\programs\\python\\python310\\lib\\site-packages (from matplotlib!=3.6.1,>=3.1->seaborn) (0.11.0)\n",
      "Requirement already satisfied: fonttools>=4.22.0 in c:\\users\\felipe\\appdata\\local\\programs\\python\\python310\\lib\\site-packages (from matplotlib!=3.6.1,>=3.1->seaborn) (4.38.0)\n",
      "Requirement already satisfied: kiwisolver>=1.0.1 in c:\\users\\felipe\\appdata\\local\\programs\\python\\python310\\lib\\site-packages (from matplotlib!=3.6.1,>=3.1->seaborn) (1.4.4)\n",
      "Requirement already satisfied: packaging>=20.0 in c:\\users\\felipe\\appdata\\roaming\\python\\python310\\site-packages (from matplotlib!=3.6.1,>=3.1->seaborn) (23.0)\n",
      "Requirement already satisfied: pillow>=6.2.0 in c:\\users\\felipe\\appdata\\local\\programs\\python\\python310\\lib\\site-packages (from matplotlib!=3.6.1,>=3.1->seaborn) (9.4.0)\n",
      "Requirement already satisfied: pyparsing>=2.3.1 in c:\\users\\felipe\\appdata\\local\\programs\\python\\python310\\lib\\site-packages (from matplotlib!=3.6.1,>=3.1->seaborn) (3.0.9)\n",
      "Requirement already satisfied: python-dateutil>=2.7 in c:\\users\\felipe\\appdata\\roaming\\python\\python310\\site-packages (from matplotlib!=3.6.1,>=3.1->seaborn) (2.8.2)\n",
      "Requirement already satisfied: pytz>=2020.1 in c:\\users\\felipe\\appdata\\local\\programs\\python\\python310\\lib\\site-packages (from pandas>=0.25->seaborn) (2022.7.1)\n",
      "Requirement already satisfied: six>=1.5 in c:\\users\\felipe\\appdata\\roaming\\python\\python310\\site-packages (from python-dateutil>=2.7->matplotlib!=3.6.1,>=3.1->seaborn) (1.16.0)\n",
      "Requirement already satisfied: tensorflow in c:\\users\\felipe\\appdata\\local\\programs\\python\\python310\\lib\\site-packages (2.16.1)\n",
      "Requirement already satisfied: tensorflow-intel==2.16.1 in c:\\users\\felipe\\appdata\\local\\programs\\python\\python310\\lib\\site-packages (from tensorflow) (2.16.1)\n",
      "Requirement already satisfied: absl-py>=1.0.0 in c:\\users\\felipe\\appdata\\local\\programs\\python\\python310\\lib\\site-packages (from tensorflow-intel==2.16.1->tensorflow) (2.1.0)\n",
      "Requirement already satisfied: astunparse>=1.6.0 in c:\\users\\felipe\\appdata\\local\\programs\\python\\python310\\lib\\site-packages (from tensorflow-intel==2.16.1->tensorflow) (1.6.3)\n",
      "Requirement already satisfied: flatbuffers>=23.5.26 in c:\\users\\felipe\\appdata\\local\\programs\\python\\python310\\lib\\site-packages (from tensorflow-intel==2.16.1->tensorflow) (24.3.25)\n",
      "Requirement already satisfied: gast!=0.5.0,!=0.5.1,!=0.5.2,>=0.2.1 in c:\\users\\felipe\\appdata\\local\\programs\\python\\python310\\lib\\site-packages (from tensorflow-intel==2.16.1->tensorflow) (0.5.4)\n",
      "Requirement already satisfied: google-pasta>=0.1.1 in c:\\users\\felipe\\appdata\\local\\programs\\python\\python310\\lib\\site-packages (from tensorflow-intel==2.16.1->tensorflow) (0.2.0)\n",
      "Requirement already satisfied: h5py>=3.10.0 in c:\\users\\felipe\\appdata\\local\\programs\\python\\python310\\lib\\site-packages (from tensorflow-intel==2.16.1->tensorflow) (3.11.0)\n",
      "Requirement already satisfied: libclang>=13.0.0 in c:\\users\\felipe\\appdata\\local\\programs\\python\\python310\\lib\\site-packages (from tensorflow-intel==2.16.1->tensorflow) (18.1.1)\n",
      "Requirement already satisfied: ml-dtypes~=0.3.1 in c:\\users\\felipe\\appdata\\local\\programs\\python\\python310\\lib\\site-packages (from tensorflow-intel==2.16.1->tensorflow) (0.3.2)\n",
      "Requirement already satisfied: opt-einsum>=2.3.2 in c:\\users\\felipe\\appdata\\local\\programs\\python\\python310\\lib\\site-packages (from tensorflow-intel==2.16.1->tensorflow) (3.3.0)\n",
      "Requirement already satisfied: packaging in c:\\users\\felipe\\appdata\\roaming\\python\\python310\\site-packages (from tensorflow-intel==2.16.1->tensorflow) (23.0)\n",
      "Requirement already satisfied: protobuf!=4.21.0,!=4.21.1,!=4.21.2,!=4.21.3,!=4.21.4,!=4.21.5,<5.0.0dev,>=3.20.3 in c:\\users\\felipe\\appdata\\local\\programs\\python\\python310\\lib\\site-packages (from tensorflow-intel==2.16.1->tensorflow) (4.25.3)\n",
      "Requirement already satisfied: requests<3,>=2.21.0 in c:\\users\\felipe\\appdata\\local\\programs\\python\\python310\\lib\\site-packages (from tensorflow-intel==2.16.1->tensorflow) (2.32.3)\n",
      "Requirement already satisfied: setuptools in c:\\users\\felipe\\appdata\\local\\programs\\python\\python310\\lib\\site-packages (from tensorflow-intel==2.16.1->tensorflow) (63.2.0)\n",
      "Requirement already satisfied: six>=1.12.0 in c:\\users\\felipe\\appdata\\roaming\\python\\python310\\site-packages (from tensorflow-intel==2.16.1->tensorflow) (1.16.0)\n",
      "Requirement already satisfied: termcolor>=1.1.0 in c:\\users\\felipe\\appdata\\local\\programs\\python\\python310\\lib\\site-packages (from tensorflow-intel==2.16.1->tensorflow) (2.4.0)\n",
      "Requirement already satisfied: typing-extensions>=3.6.6 in c:\\users\\felipe\\appdata\\local\\programs\\python\\python310\\lib\\site-packages (from tensorflow-intel==2.16.1->tensorflow) (4.12.1)\n",
      "Requirement already satisfied: wrapt>=1.11.0 in c:\\users\\felipe\\appdata\\local\\programs\\python\\python310\\lib\\site-packages (from tensorflow-intel==2.16.1->tensorflow) (1.16.0)\n",
      "Requirement already satisfied: grpcio<2.0,>=1.24.3 in c:\\users\\felipe\\appdata\\local\\programs\\python\\python310\\lib\\site-packages (from tensorflow-intel==2.16.1->tensorflow) (1.64.1)\n",
      "Requirement already satisfied: tensorboard<2.17,>=2.16 in c:\\users\\felipe\\appdata\\local\\programs\\python\\python310\\lib\\site-packages (from tensorflow-intel==2.16.1->tensorflow) (2.16.2)\n",
      "Requirement already satisfied: keras>=3.0.0 in c:\\users\\felipe\\appdata\\local\\programs\\python\\python310\\lib\\site-packages (from tensorflow-intel==2.16.1->tensorflow) (3.3.3)\n",
      "Requirement already satisfied: tensorflow-io-gcs-filesystem>=0.23.1 in c:\\users\\felipe\\appdata\\local\\programs\\python\\python310\\lib\\site-packages (from tensorflow-intel==2.16.1->tensorflow) (0.31.0)\n",
      "Requirement already satisfied: numpy<2.0.0,>=1.23.5 in c:\\users\\felipe\\appdata\\local\\programs\\python\\python310\\lib\\site-packages (from tensorflow-intel==2.16.1->tensorflow) (1.24.2)\n",
      "Requirement already satisfied: wheel<1.0,>=0.23.0 in c:\\users\\felipe\\appdata\\local\\programs\\python\\python310\\lib\\site-packages (from astunparse>=1.6.0->tensorflow-intel==2.16.1->tensorflow) (0.38.4)\n",
      "Requirement already satisfied: rich in c:\\users\\felipe\\appdata\\local\\programs\\python\\python310\\lib\\site-packages (from keras>=3.0.0->tensorflow-intel==2.16.1->tensorflow) (13.7.1)\n",
      "Requirement already satisfied: namex in c:\\users\\felipe\\appdata\\local\\programs\\python\\python310\\lib\\site-packages (from keras>=3.0.0->tensorflow-intel==2.16.1->tensorflow) (0.0.8)\n",
      "Requirement already satisfied: optree in c:\\users\\felipe\\appdata\\local\\programs\\python\\python310\\lib\\site-packages (from keras>=3.0.0->tensorflow-intel==2.16.1->tensorflow) (0.11.0)\n",
      "Requirement already satisfied: charset-normalizer<4,>=2 in c:\\users\\felipe\\appdata\\local\\programs\\python\\python310\\lib\\site-packages (from requests<3,>=2.21.0->tensorflow-intel==2.16.1->tensorflow) (3.3.2)\n",
      "Requirement already satisfied: idna<4,>=2.5 in c:\\users\\felipe\\appdata\\local\\programs\\python\\python310\\lib\\site-packages (from requests<3,>=2.21.0->tensorflow-intel==2.16.1->tensorflow) (3.7)\n",
      "Requirement already satisfied: urllib3<3,>=1.21.1 in c:\\users\\felipe\\appdata\\local\\programs\\python\\python310\\lib\\site-packages (from requests<3,>=2.21.0->tensorflow-intel==2.16.1->tensorflow) (2.2.1)\n",
      "Requirement already satisfied: certifi>=2017.4.17 in c:\\users\\felipe\\appdata\\local\\programs\\python\\python310\\lib\\site-packages (from requests<3,>=2.21.0->tensorflow-intel==2.16.1->tensorflow) (2024.6.2)\n",
      "Requirement already satisfied: markdown>=2.6.8 in c:\\users\\felipe\\appdata\\local\\programs\\python\\python310\\lib\\site-packages (from tensorboard<2.17,>=2.16->tensorflow-intel==2.16.1->tensorflow) (3.6)\n",
      "Requirement already satisfied: tensorboard-data-server<0.8.0,>=0.7.0 in c:\\users\\felipe\\appdata\\local\\programs\\python\\python310\\lib\\site-packages (from tensorboard<2.17,>=2.16->tensorflow-intel==2.16.1->tensorflow) (0.7.2)\n",
      "Requirement already satisfied: werkzeug>=1.0.1 in c:\\users\\felipe\\appdata\\local\\programs\\python\\python310\\lib\\site-packages (from tensorboard<2.17,>=2.16->tensorflow-intel==2.16.1->tensorflow) (3.0.3)\n",
      "Requirement already satisfied: MarkupSafe>=2.1.1 in c:\\users\\felipe\\appdata\\local\\programs\\python\\python310\\lib\\site-packages (from werkzeug>=1.0.1->tensorboard<2.17,>=2.16->tensorflow-intel==2.16.1->tensorflow) (2.1.5)\n",
      "Requirement already satisfied: markdown-it-py>=2.2.0 in c:\\users\\felipe\\appdata\\local\\programs\\python\\python310\\lib\\site-packages (from rich->keras>=3.0.0->tensorflow-intel==2.16.1->tensorflow) (3.0.0)\n",
      "Requirement already satisfied: pygments<3.0.0,>=2.13.0 in c:\\users\\felipe\\appdata\\roaming\\python\\python310\\site-packages (from rich->keras>=3.0.0->tensorflow-intel==2.16.1->tensorflow) (2.14.0)\n",
      "Requirement already satisfied: mdurl~=0.1 in c:\\users\\felipe\\appdata\\local\\programs\\python\\python310\\lib\\site-packages (from markdown-it-py>=2.2.0->rich->keras>=3.0.0->tensorflow-intel==2.16.1->tensorflow) (0.1.2)\n",
      "Requirement already satisfied: keras in c:\\users\\felipe\\appdata\\local\\programs\\python\\python310\\lib\\site-packages (3.3.3)\n",
      "Requirement already satisfied: absl-py in c:\\users\\felipe\\appdata\\local\\programs\\python\\python310\\lib\\site-packages (from keras) (2.1.0)\n",
      "Requirement already satisfied: numpy in c:\\users\\felipe\\appdata\\local\\programs\\python\\python310\\lib\\site-packages (from keras) (1.24.2)\n",
      "Requirement already satisfied: rich in c:\\users\\felipe\\appdata\\local\\programs\\python\\python310\\lib\\site-packages (from keras) (13.7.1)\n",
      "Requirement already satisfied: namex in c:\\users\\felipe\\appdata\\local\\programs\\python\\python310\\lib\\site-packages (from keras) (0.0.8)\n",
      "Requirement already satisfied: h5py in c:\\users\\felipe\\appdata\\local\\programs\\python\\python310\\lib\\site-packages (from keras) (3.11.0)\n",
      "Requirement already satisfied: optree in c:\\users\\felipe\\appdata\\local\\programs\\python\\python310\\lib\\site-packages (from keras) (0.11.0)\n",
      "Requirement already satisfied: ml-dtypes in c:\\users\\felipe\\appdata\\local\\programs\\python\\python310\\lib\\site-packages (from keras) (0.3.2)\n",
      "Requirement already satisfied: typing-extensions>=4.0.0 in c:\\users\\felipe\\appdata\\local\\programs\\python\\python310\\lib\\site-packages (from optree->keras) (4.12.1)\n",
      "Requirement already satisfied: markdown-it-py>=2.2.0 in c:\\users\\felipe\\appdata\\local\\programs\\python\\python310\\lib\\site-packages (from rich->keras) (3.0.0)\n",
      "Requirement already satisfied: pygments<3.0.0,>=2.13.0 in c:\\users\\felipe\\appdata\\roaming\\python\\python310\\site-packages (from rich->keras) (2.14.0)\n",
      "Requirement already satisfied: mdurl~=0.1 in c:\\users\\felipe\\appdata\\local\\programs\\python\\python310\\lib\\site-packages (from markdown-it-py>=2.2.0->rich->keras) (0.1.2)\n",
      "Requirement already satisfied: efficientnet==0.0.4 in c:\\users\\felipe\\appdata\\local\\programs\\python\\python310\\lib\\site-packages (0.0.4)\n"
     ]
    }
   ],
   "source": [
    "! pip install pandas\n",
    "! pip install Image\n",
    "! pip install matplotlib\n",
    "! pip install numpy\n",
    "! pip install scikit-image\n",
    "! pip install mahotas\n",
    "! pip install scikit-learn\n",
    "! pip install opencv-python\n",
    "! pip install seaborn\n",
    "! pip install tensorflow\n",
    "! pip install keras"
   ]
  },
  {
   "cell_type": "code",
   "execution_count": 34,
   "metadata": {},
   "outputs": [],
   "source": [
    "import os\n",
    "import cv2\n",
    "import numpy as np\n",
    "import pandas as pd\n",
    "from skimage.feature import graycomatrix, graycoprops\n",
    "from PIL import Image\n",
    "import matplotlib.pylab as plt\n",
    "import mahotas as mh\n",
    "from sklearn import svm\n",
    "from sklearn.svm import SVC\n",
    "from sklearn.model_selection import train_test_split\n",
    "from sklearn.metrics import confusion_matrix, accuracy_score, classification_report\n",
    "import seaborn as sns\n",
    "import tensorflow as tf\n",
    "\n",
    "from keras._tf_keras.keras.preprocessing.image import ImageDataGenerator\n",
    "from keras._tf_keras.keras.applications import EfficientNetB0\n",
    "from keras._tf_keras.keras.layers import Dense, GlobalAveragePooling2D, Dropout\n",
    "from keras._tf_keras.keras.models import Model\n",
    "from keras._tf_keras.keras.optimizers import Adam\n",
    "from keras._tf_keras.keras.callbacks import EarlyStopping\n",
    "from sklearn.model_selection import train_test_split"
   ]
  },
  {
   "cell_type": "markdown",
   "metadata": {},
   "source": [
    "### Global Variables - Paths"
   ]
  },
  {
   "cell_type": "code",
   "execution_count": 2,
   "metadata": {},
   "outputs": [],
   "source": [
    "CSV_PATH = 'classifications.csv'\n",
    "IMAGE_SET_PATH = 'dataset'\n",
    "CLASSES_PATH = 'classes'"
   ]
  },
  {
   "cell_type": "markdown",
   "metadata": {},
   "source": [
    "### Functions"
   ]
  },
  {
   "cell_type": "code",
   "execution_count": 4,
   "metadata": {},
   "outputs": [],
   "source": [
    "def display_image(image_path):\n",
    "    img = Image.open(image_path)\n",
    "    plt.imshow(img)\n",
    "    plt.axis('off')\n",
    "    plt.show()"
   ]
  },
  {
   "cell_type": "markdown",
   "metadata": {},
   "source": [
    "#### Loading and Filtering Data"
   ]
  },
  {
   "cell_type": "code",
   "execution_count": 5,
   "metadata": {},
   "outputs": [],
   "source": [
    "def filter_existing_images(data):\n",
    "    existing_imgs = []\n",
    "    missing_img = []\n",
    "\n",
    "    for index, row in data.iterrows():\n",
    "        \n",
    "        image_path = os.path.join(IMAGE_SET_PATH, row['image_filename'])\n",
    "        if os.path.isfile(image_path):\n",
    "            existing_imgs.append(index)\n",
    "        else:\n",
    "            missing_img.append(row['image_filename'])\n",
    "\n",
    "    #if missing_img:\n",
    "    #    print(f\"Missing files: {len(missing_img)}\")\n",
    "    #    print(missing_img)\n",
    "\n",
    "    filtered_data = data.loc[existing_imgs]\n",
    "    filtered_data['bethesda_system'] = filtered_data['bethesda_system'].replace('Negative for intraepithelial lesion', 'Negative_for_intraepithelial_lesion')\n",
    "    return filtered_data"
   ]
  },
  {
   "cell_type": "markdown",
   "metadata": {},
   "source": [
    "#### Cropping and Saving Images"
   ]
  },
  {
   "cell_type": "code",
   "execution_count": 6,
   "metadata": {},
   "outputs": [],
   "source": [
    "def make_class_dir (classes):\n",
    "    for class_name in classes:\n",
    "        os.makedirs(os.path.join(CLASSES_PATH, class_name), exist_ok=True)"
   ]
  },
  {
   "cell_type": "code",
   "execution_count": 7,
   "metadata": {},
   "outputs": [],
   "source": [
    "def get_crop_box (x, y, width, height, crop_size = 100):\n",
    "    half_crop = crop_size // 2\n",
    "    left = max(0, x - half_crop)\n",
    "    upper = max(0, y - half_crop)\n",
    "    right = min(width, x + half_crop)\n",
    "    lower = min(height, y + half_crop)\n",
    "\n",
    "    if right - left < crop_size:\n",
    "        if left == 0:\n",
    "            right = left + crop_size\n",
    "        else:\n",
    "            left = right - crop_size\n",
    "    if lower - upper < crop_size:\n",
    "        if upper == 0:\n",
    "            lower = upper + crop_size\n",
    "        else:\n",
    "            upper = lower - crop_size\n",
    "\n",
    "    return (left, upper, right, lower)"
   ]
  },
  {
   "cell_type": "markdown",
   "metadata": {},
   "source": [
    "#### Feature Extraction"
   ]
  },
  {
   "cell_type": "code",
   "execution_count": 8,
   "metadata": {},
   "outputs": [],
   "source": [
    "def generate_grayscale_histogram(img, bins = 16):\n",
    "    grayscale_image = img.convert(\"L\")\n",
    "    histogram, bin_edges = np.histogram(grayscale_image, bins=bins, range=(0,255))\n",
    "\n",
    "    return histogram"
   ]
  },
  {
   "cell_type": "code",
   "execution_count": 9,
   "metadata": {},
   "outputs": [],
   "source": [
    "def generate_hsv_histogram(img, h_bins=16, v_bins=8):\n",
    "    hsv_img = img.convert(\"HSV\")\n",
    "    h, s, v = hsv_img.split()\n",
    "    h = np.array(h) // (256 // h_bins)\n",
    "    v = np.array(v) // (256 // v_bins)\n",
    "    histogram, _, _ = np.histogram2d(h.flatten(), v.flatten(), bins=[h_bins, v_bins], range=[[0, h_bins], [0, v_bins]])\n",
    "    return histogram"
   ]
  },
  {
   "cell_type": "code",
   "execution_count": 10,
   "metadata": {},
   "outputs": [],
   "source": [
    "def quantize_image(image, levels = 16):\n",
    "    grayscale_image = image.convert(\"L\")\n",
    "    quantized_image = np.array(grayscale_image) // (256 // levels)\n",
    "    return quantized_image"
   ]
  },
  {
   "cell_type": "code",
   "execution_count": 11,
   "metadata": {},
   "outputs": [],
   "source": [
    "def compute_cooccurrence_matrices(q_img, distances=[1, 2, 4, 8, 16, 32], angles=[0]):\n",
    "\n",
    "    cooccurrence_matrices = graycomatrix(q_img, distances, angles, levels=16, symmetric=True, normed=True)\n",
    "    return cooccurrence_matrices\n"
   ]
  },
  {
   "cell_type": "code",
   "execution_count": 12,
   "metadata": {},
   "outputs": [],
   "source": [
    "def compute_haralick_descriptors(cooccurrence_matrices):\n",
    "    descriptors = {}\n",
    "    descriptors['entropy'] = -np.sum(cooccurrence_matrices * np.log(cooccurrence_matrices + 1e-10), axis=(0, 1))\n",
    "    descriptors['homogeneity'] = graycoprops(cooccurrence_matrices, 'homogeneity')\n",
    "    descriptors['contrast'] = graycoprops(cooccurrence_matrices, 'contrast')\n",
    "    return descriptors"
   ]
  },
  {
   "cell_type": "code",
   "execution_count": 13,
   "metadata": {},
   "outputs": [],
   "source": [
    "def compute_glcm(q_img, dists=[1, 2 ,4, 8, 16, 32], angles=[0]):\n",
    "    glcm = graycomatrix(q_img, distances=dists, angles=angles, levels=16, symmetric=True, normed=True)\n",
    "    return glcm"
   ]
  },
  {
   "cell_type": "code",
   "execution_count": 14,
   "metadata": {},
   "outputs": [],
   "source": [
    "def compute_haralick_features_naMao(glcm):\n",
    "    contrast = graycoprops(glcm, 'contrast')\n",
    "    homogeneity = graycoprops(glcm, 'homogeneity')\n",
    "    \n",
    "    # Entropy calculation\n",
    "    glcm_sum = glcm.sum(axis=(0, 1))\n",
    "    norm_glcm = glcm / glcm_sum\n",
    "    entropy = -np.sum(norm_glcm * np.log(norm_glcm + 1e-10), axis=(0, 1))\n",
    "    \n",
    "    features = {\n",
    "        'contrast': contrast,\n",
    "        'homogeneity': homogeneity,\n",
    "        'entropy': entropy\n",
    "    }\n",
    "    return features"
   ]
  },
  {
   "cell_type": "code",
   "execution_count": 15,
   "metadata": {},
   "outputs": [],
   "source": [
    "def get_haralick_pedrao(img):\n",
    "        glcm = mh.features.haralick(img, distance=1, return_mean=False)\n",
    "\n",
    "        # Calcular os descritores de Haralick\n",
    "        # Tirar a média dos descritores ao longo das direções\n",
    "        haralick_mean = glcm.mean(axis=0)\n",
    "        nomes_descritores = [\n",
    "            'Angular Second Moment', 'Contrast', 'Correlation', 'Variance', \n",
    "            'Inverse Difference Moment', 'Sum Average', 'Sum Variance', 'Sum Entropy', \n",
    "            'Entropy', 'Difference Variance', 'Difference Entropy', \n",
    "            'Information Measure of Correlation 1', 'Information Measure of Correlation 2'\n",
    "        ]\n",
    "        haralick_str = ''\n",
    "        for nome, valor in zip(nomes_descritores, haralick_mean):\n",
    "            print(f'{nome}: {valor}')"
   ]
  },
  {
   "cell_type": "code",
   "execution_count": 16,
   "metadata": {},
   "outputs": [],
   "source": [
    "def compute_haralick_features(q_img):\n",
    "    haralick_features = mh.features.haralick(q_img, return_mean=True)\n",
    "    return haralick_features"
   ]
  },
  {
   "cell_type": "code",
   "execution_count": 17,
   "metadata": {},
   "outputs": [],
   "source": [
    "def load_data(classes, image_size=(100, 100)):\n",
    "    images = []\n",
    "    labels = []\n",
    "\n",
    "    for class_name in classes:\n",
    "        class_dir = os.path.join(CLASSES_PATH, class_name)\n",
    "        for filename in os.listdir(class_dir):\n",
    "            if filename.endswith('.png'):\n",
    "                img_path = os.path.join(class_dir, filename)\n",
    "                img = Image.open(img_path).resize(image_size)\n",
    "                img_array = np.array(img)\n",
    "                images.append(img_array)\n",
    "                labels.append(class_name)\n",
    "    \n",
    "    images = np.array(images)\n",
    "    labels = np.array(labels)\n",
    "    \n",
    "    return images, labels"
   ]
  },
  {
   "cell_type": "code",
   "execution_count": 18,
   "metadata": {},
   "outputs": [],
   "source": [
    "def compute_haralick_feature(image, distances=[1, 2, 4, 8, 16, 32], angles=[0]):\n",
    "    gray = cv2.cvtColor(image, cv2.COLOR_BGR2GRAY)\n",
    "    glcm = graycomatrix(gray, distances, angles, levels=16, symmetric=True, normed=True)\n",
    "    \n",
    "    features = []\n",
    "    \n",
    "    for prop in ['contrast', 'homogeneity', 'entropy', 'dissimilarity', 'ASM', 'energy', 'correlation']:\n",
    "        features.append(graycoprops(glcm, prop).flatten())\n",
    "    \n",
    "    return np.hstack(features)\n"
   ]
  },
  {
   "cell_type": "code",
   "execution_count": 19,
   "metadata": {},
   "outputs": [],
   "source": [
    "def plot_confusion_matrix(cm, classes, title='Confusion Matrix', cmap=plt.cm.Blues):\n",
    "    plt.figure(figsize=(6, 6))\n",
    "    sns.heatmap(cm, annot=True, fmt='d', cmap=cmap, xticklabels=classes, yticklabels=classes)\n",
    "    plt.title(title)\n",
    "    plt.ylabel('True Label')\n",
    "    plt.xlabel('Predicted Label')\n",
    "    plt.show()"
   ]
  },
  {
   "cell_type": "markdown",
   "metadata": {},
   "source": [
    "### Main"
   ]
  },
  {
   "cell_type": "markdown",
   "metadata": {},
   "source": [
    "#### Loading and Filtering Data"
   ]
  },
  {
   "cell_type": "code",
   "execution_count": 20,
   "metadata": {},
   "outputs": [],
   "source": [
    "brute_data = pd.read_csv(CSV_PATH)\n",
    "data = filter_existing_images(brute_data)"
   ]
  },
  {
   "cell_type": "markdown",
   "metadata": {},
   "source": [
    "##### Dataset"
   ]
  },
  {
   "cell_type": "code",
   "execution_count": 146,
   "metadata": {},
   "outputs": [
    {
     "data": {
      "text/html": [
       "<div>\n",
       "<style scoped>\n",
       "    .dataframe tbody tr th:only-of-type {\n",
       "        vertical-align: middle;\n",
       "    }\n",
       "\n",
       "    .dataframe tbody tr th {\n",
       "        vertical-align: top;\n",
       "    }\n",
       "\n",
       "    .dataframe thead th {\n",
       "        text-align: right;\n",
       "    }\n",
       "</style>\n",
       "<table border=\"1\" class=\"dataframe\">\n",
       "  <thead>\n",
       "    <tr style=\"text-align: right;\">\n",
       "      <th></th>\n",
       "      <th>image_id</th>\n",
       "      <th>image_filename</th>\n",
       "      <th>image_doi</th>\n",
       "      <th>cell_id</th>\n",
       "      <th>bethesda_system</th>\n",
       "      <th>nucleus_x</th>\n",
       "      <th>nucleus_y</th>\n",
       "    </tr>\n",
       "  </thead>\n",
       "  <tbody>\n",
       "    <tr>\n",
       "      <th>526</th>\n",
       "      <td>393</td>\n",
       "      <td>363b6b00d925e5c52694b8f7b678c53b.png</td>\n",
       "      <td>10.6084/m9.figshare.12230885</td>\n",
       "      <td>527</td>\n",
       "      <td>LSIL</td>\n",
       "      <td>998</td>\n",
       "      <td>890</td>\n",
       "    </tr>\n",
       "    <tr>\n",
       "      <th>527</th>\n",
       "      <td>393</td>\n",
       "      <td>363b6b00d925e5c52694b8f7b678c53b.png</td>\n",
       "      <td>10.6084/m9.figshare.12230885</td>\n",
       "      <td>528</td>\n",
       "      <td>LSIL</td>\n",
       "      <td>645</td>\n",
       "      <td>600</td>\n",
       "    </tr>\n",
       "    <tr>\n",
       "      <th>528</th>\n",
       "      <td>393</td>\n",
       "      <td>363b6b00d925e5c52694b8f7b678c53b.png</td>\n",
       "      <td>10.6084/m9.figshare.12230885</td>\n",
       "      <td>529</td>\n",
       "      <td>LSIL</td>\n",
       "      <td>609</td>\n",
       "      <td>585</td>\n",
       "    </tr>\n",
       "    <tr>\n",
       "      <th>529</th>\n",
       "      <td>393</td>\n",
       "      <td>363b6b00d925e5c52694b8f7b678c53b.png</td>\n",
       "      <td>10.6084/m9.figshare.12230885</td>\n",
       "      <td>530</td>\n",
       "      <td>Negative_for_intraepithelial_lesion</td>\n",
       "      <td>393</td>\n",
       "      <td>140</td>\n",
       "    </tr>\n",
       "    <tr>\n",
       "      <th>530</th>\n",
       "      <td>393</td>\n",
       "      <td>363b6b00d925e5c52694b8f7b678c53b.png</td>\n",
       "      <td>10.6084/m9.figshare.12230885</td>\n",
       "      <td>531</td>\n",
       "      <td>Negative_for_intraepithelial_lesion</td>\n",
       "      <td>348</td>\n",
       "      <td>207</td>\n",
       "    </tr>\n",
       "  </tbody>\n",
       "</table>\n",
       "</div>"
      ],
      "text/plain": [
       "     image_id                        image_filename  \\\n",
       "526       393  363b6b00d925e5c52694b8f7b678c53b.png   \n",
       "527       393  363b6b00d925e5c52694b8f7b678c53b.png   \n",
       "528       393  363b6b00d925e5c52694b8f7b678c53b.png   \n",
       "529       393  363b6b00d925e5c52694b8f7b678c53b.png   \n",
       "530       393  363b6b00d925e5c52694b8f7b678c53b.png   \n",
       "\n",
       "                        image_doi  cell_id  \\\n",
       "526  10.6084/m9.figshare.12230885      527   \n",
       "527  10.6084/m9.figshare.12230885      528   \n",
       "528  10.6084/m9.figshare.12230885      529   \n",
       "529  10.6084/m9.figshare.12230885      530   \n",
       "530  10.6084/m9.figshare.12230885      531   \n",
       "\n",
       "                         bethesda_system  nucleus_x  nucleus_y  \n",
       "526                                 LSIL        998        890  \n",
       "527                                 LSIL        645        600  \n",
       "528                                 LSIL        609        585  \n",
       "529  Negative_for_intraepithelial_lesion        393        140  \n",
       "530  Negative_for_intraepithelial_lesion        348        207  "
      ]
     },
     "execution_count": 146,
     "metadata": {},
     "output_type": "execute_result"
    }
   ],
   "source": [
    "data.head()"
   ]
  },
  {
   "cell_type": "markdown",
   "metadata": {},
   "source": [
    "#### Cropping and Saving Images"
   ]
  },
  {
   "cell_type": "code",
   "execution_count": 20,
   "metadata": {},
   "outputs": [],
   "source": [
    "make_class_dir(data['bethesda_system'].unique())\n",
    "\n",
    "for index, row in data.iterrows():\n",
    "    image_path = os.path.join(IMAGE_SET_PATH, row['image_filename'])\n",
    "    x, y = int(row['nucleus_x']), int(row['nucleus_y'])\n",
    "    class_name = row['bethesda_system']\n",
    "    cell_id = row['cell_id']\n",
    "\n",
    "    with Image.open(image_path) as img:\n",
    "        width, height = img.size\n",
    "        crop_box = get_crop_box(x, y, width, height)\n",
    "        cropped_img = img.crop(crop_box)\n",
    "\n",
    "        output_path = os.path.join(CLASSES_PATH, class_name, f'{cell_id}.png')\n",
    "        cropped_img.save(output_path)"
   ]
  },
  {
   "cell_type": "markdown",
   "metadata": {},
   "source": [
    "#### Feature Extraction"
   ]
  },
  {
   "cell_type": "code",
   "execution_count": 21,
   "metadata": {},
   "outputs": [
    {
     "data": {
      "image/png": "[encoded data removed]",
      "text/plain": [
       "<PIL.PngImagePlugin.PngImageFile image mode=RGB size=100x100>"
      ]
     },
     "metadata": {},
     "output_type": "display_data"
    },
    {
     "name": "stdout",
     "output_type": "stream",
     "text": [
      "[   1  819  591  507  287  241  253  283  377  498  527  546 1023 1148\n",
      " 1215 1684]\n"
     ]
    },
    {
     "data": {
      "image/png": "[encoded data removed]",
      "text/plain": [
       "<Figure size 640x480 with 1 Axes>"
      ]
     },
     "metadata": {},
     "output_type": "display_data"
    }
   ],
   "source": [
    "img = Image.open('classes/HSIL/7653.png')\n",
    "display(img)\n",
    "\n",
    "histogram = generate_grayscale_histogram(img)\n",
    "print(histogram)\n",
    "\n",
    "plt.bar(range(16), histogram)\n",
    "plt.show()"
   ]
  },
  {
   "cell_type": "code",
   "execution_count": 22,
   "metadata": {},
   "outputs": [
    {
     "name": "stdout",
     "output_type": "stream",
     "text": [
      "[[0.000e+00 2.900e+01 1.100e+01 0.000e+00 0.000e+00 2.000e+00 0.000e+00\n",
      "  2.040e+02]\n",
      " [0.000e+00 3.000e+00 1.600e+01 8.000e+00 2.000e+00 0.000e+00 0.000e+00\n",
      "  1.800e+01]\n",
      " [0.000e+00 3.000e+00 9.000e+00 6.000e+00 3.000e+00 0.000e+00 1.000e+00\n",
      "  7.400e+01]\n",
      " [0.000e+00 5.000e+00 8.000e+00 8.000e+00 7.000e+00 2.000e+00 5.000e+00\n",
      "  4.500e+01]\n",
      " [0.000e+00 1.000e+00 4.000e+00 7.000e+00 5.000e+00 0.000e+00 1.000e+00\n",
      "  4.300e+01]\n",
      " [0.000e+00 4.000e+00 9.000e+00 5.000e+00 4.000e+00 5.000e+00 9.000e+00\n",
      "  1.280e+02]\n",
      " [0.000e+00 3.000e+00 4.000e+00 1.100e+01 1.900e+01 2.500e+01 6.600e+01\n",
      "  2.140e+02]\n",
      " [0.000e+00 8.000e+00 3.400e+01 7.100e+01 2.060e+02 4.520e+02 7.940e+02\n",
      "  1.059e+03]\n",
      " [0.000e+00 4.100e+01 2.340e+02 2.560e+02 3.020e+02 5.730e+02 9.830e+02\n",
      "  1.384e+03]\n",
      " [9.000e+00 1.760e+02 2.460e+02 1.110e+02 8.600e+01 2.900e+01 5.800e+01\n",
      "  4.350e+02]\n",
      " [2.800e+01 3.150e+02 3.000e+01 3.000e+00 2.000e+00 0.000e+00 2.000e+00\n",
      "  8.800e+01]\n",
      " [2.000e+00 1.000e+02 0.000e+00 0.000e+00 0.000e+00 1.000e+00 1.000e+00\n",
      "  2.200e+01]\n",
      " [6.700e+01 2.190e+02 1.000e+00 0.000e+00 0.000e+00 1.000e+00 1.000e+00\n",
      "  3.000e+00]\n",
      " [5.200e+01 1.800e+02 1.000e+00 0.000e+00 0.000e+00 0.000e+00 0.000e+00\n",
      "  2.300e+01]\n",
      " [1.600e+01 1.920e+02 1.000e+00 0.000e+00 0.000e+00 1.000e+00 1.000e+00\n",
      "  5.000e+00]\n",
      " [2.000e+00 4.700e+01 5.000e+00 0.000e+00 0.000e+00 0.000e+00 1.000e+00\n",
      "  4.000e+00]]\n"
     ]
    },
    {
     "data": {
      "image/png": "[encoded data removed]",
      "text/plain": [
       "<Figure size 640x480 with 1 Axes>"
      ]
     },
     "metadata": {},
     "output_type": "display_data"
    }
   ],
   "source": [
    "histogram_hsv = generate_hsv_histogram(img)\n",
    "print(histogram_hsv)\n",
    "plt.imshow(histogram_hsv, interpolation='nearest')\n",
    "plt.show()"
   ]
  },
  {
   "cell_type": "code",
   "execution_count": 150,
   "metadata": {},
   "outputs": [],
   "source": [
    "#q_img = quantize_image(img)\n",
    "#\n",
    "#haralick_features = compute_haralick_features(q_img)\n",
    "#print(\"COM MAHOMES: \")\n",
    "#print(\"Haralick Features:\")\n",
    "#print(f\"Mean Haralick Features: {haralick_features}\")\n",
    "#\n",
    "#glcm = compute_glcm(q_img)\n",
    "#haralick_features = compute_haralick_features_naMao(glcm)\n",
    "#print(\"NA MAO DAQUELE NAIPAO: \")\n",
    "#print(\"Haralick Features:\")\n",
    "#print(f\"Contrast: {haralick_features['contrast']}\")\n",
    "#print(f\"Homogeneity: {haralick_features['homogeneity']}\")\n",
    "#print(f\"Entropy: {haralick_features['entropy']}\")\n",
    "#\n",
    "#\n",
    "#cooccurrence_matrices = compute_cooccurrence_matrices(q_img)\n",
    "#\n",
    "#descriptors = compute_haralick_descriptors(cooccurrence_matrices)\n",
    "#print(descriptors)\n",
    "\n",
    "#get_haralick_pedrao(img)"
   ]
  },
  {
   "cell_type": "code",
   "execution_count": 151,
   "metadata": {},
   "outputs": [],
   "source": [
    "#classes = data['bethesda_system'].unique()\n",
    "#images, labels = load_data(classes)"
   ]
  },
  {
   "cell_type": "code",
   "execution_count": 23,
   "metadata": {},
   "outputs": [],
   "source": [
    "features = []\n",
    "labels = []\n",
    "\n",
    "for index, row in data.iterrows():\n",
    "    img_path = os.path.join(CLASSES_PATH, row['bethesda_system'], f\"{row['cell_id']}.png\")\n",
    "\n",
    "    image = cv2.imread(img_path)\n",
    "\n",
    "    if image is not None:\n",
    "        haralick_features = compute_haralick_features(image)\n",
    "        features.append(haralick_features)\n",
    "        labels.append(row['bethesda_system'])\n",
    "\n",
    "# Convert to numpy arrays\n",
    "features = np.array(features)\n",
    "labels = np.array(labels)"
   ]
  },
  {
   "cell_type": "markdown",
   "metadata": {},
   "source": [
    "#### Binary SVM Classifier"
   ]
  },
  {
   "cell_type": "code",
   "execution_count": 24,
   "metadata": {},
   "outputs": [],
   "source": [
    "binary_labels = np.array([1 if label == 'Negative_for_intraepithelial_lesion' else 0 for label in labels])\n",
    "\n",
    "X_train, X_test, y_train, y_test = train_test_split(features, binary_labels, test_size=0.2, stratify=binary_labels, random_state=49)"
   ]
  },
  {
   "cell_type": "code",
   "execution_count": 174,
   "metadata": {},
   "outputs": [
    {
     "name": "stdout",
     "output_type": "stream",
     "text": [
      "              precision    recall  f1-score   support\n",
      "\n",
      "    Negativo       0.70      0.05      0.10       268\n",
      "    Positivo       0.77      0.99      0.87       849\n",
      "\n",
      "    accuracy                           0.77      1117\n",
      "   macro avg       0.73      0.52      0.48      1117\n",
      "weighted avg       0.75      0.77      0.68      1117\n",
      "\n",
      "Binary SVM Accuracy: 0.7672336615935542\n",
      "Confusion Matrix:\n",
      " [[ 14 254]\n",
      " [  6 843]]\n"
     ]
    }
   ],
   "source": [
    "svm_classifier = SVC(kernel='linear', random_state=49)\n",
    "svm_classifier.fit(X_train, y_train)\n",
    "\n",
    "y_pred = svm_classifier.predict(X_test)\n",
    "\n",
    "accuracy = accuracy_score(y_test, y_pred)\n",
    "conf_matrix = confusion_matrix(y_test, y_pred)\n",
    "\n",
    "print(classification_report(y_test, y_pred, zero_division=0, target_names=['Negativo', 'Positivo']))\n",
    "\n",
    "print(\"Binary SVM Accuracy:\", accuracy)\n",
    "print(\"Confusion Matrix:\\n\", conf_matrix)"
   ]
  },
  {
   "cell_type": "code",
   "execution_count": 172,
   "metadata": {},
   "outputs": [
    {
     "data": {
      "image/png": "[encoded data removed]",
      "text/plain": [
       "<Figure size 600x600 with 2 Axes>"
      ]
     },
     "metadata": {},
     "output_type": "display_data"
    }
   ],
   "source": [
    "plot_confusion_matrix(conf_matrix, classes=['Others', 'Negative_for_intraepithelial_lesion'])"
   ]
  },
  {
   "cell_type": "markdown",
   "metadata": {},
   "source": [
    "#### Multiclass SVM Classifier"
   ]
  },
  {
   "cell_type": "code",
   "execution_count": 25,
   "metadata": {},
   "outputs": [],
   "source": [
    "X_train, X_test, y_train, y_test = train_test_split(features, binary_labels, test_size=0.2, stratify=labels, random_state=49)"
   ]
  },
  {
   "cell_type": "code",
   "execution_count": 26,
   "metadata": {},
   "outputs": [
    {
     "name": "stdout",
     "output_type": "stream",
     "text": [
      "Multi-Class SVM Accuracy: 0.7779767233661593\n",
      "Multi-Class SVM Confusion Matrix:\n",
      " [[ 45 223]\n",
      " [ 25 824]]\n"
     ]
    }
   ],
   "source": [
    "# Multi-class classification: 6 classes\n",
    "multi_svm = SVC(kernel='linear')\n",
    "multi_svm.fit(X_train, y_train)\n",
    "\n",
    "# Predictions and evaluation\n",
    "multi_predictions = multi_svm.predict(X_test)\n",
    "multi_accuracy = accuracy_score(y_test, multi_predictions)\n",
    "multi_conf_matrix = confusion_matrix(y_test, multi_predictions)\n",
    "\n",
    "print(\"Multi-Class SVM Accuracy:\", multi_accuracy)\n",
    "print(\"Multi-Class SVM Confusion Matrix:\\n\", multi_conf_matrix)"
   ]
  },
  {
   "cell_type": "markdown",
   "metadata": {},
   "source": [
    "#### Binary EfficientNet"
   ]
  },
  {
   "cell_type": "code",
   "execution_count": 103,
   "metadata": {},
   "outputs": [],
   "source": [
    "df = data.copy()\n",
    "\n",
    "df['bethesda_system'] = df['bethesda_system'].replace('Negative for intraepithelial lesion', 'Negative_for_intraepithelial_lesion')\n",
    "df['image_path'] = df.apply(lambda row: os.path.join(CLASSES_PATH, row['bethesda_system'], f\"{row['cell_id']}.png\"), axis=1)\n",
    "df['binary_class'] = df['bethesda_system'].apply(lambda x: 'Negative' if x == 'Negative_for_intraepithelial_lesion' else 'Positive')\n",
    "\n",
    "train_df, test_df = train_test_split(df, test_size=0.2, stratify=binary_labels, random_state=49)"
   ]
  },
  {
   "cell_type": "code",
   "execution_count": 81,
   "metadata": {},
   "outputs": [
    {
     "name": "stdout",
     "output_type": "stream",
     "text": [
      "Found 4464 validated image filenames belonging to 2 classes.\n",
      "Found 1117 validated image filenames belonging to 2 classes.\n",
      "Epoch 1/10\n"
     ]
    },
    {
     "name": "stderr",
     "output_type": "stream",
     "text": [
      "c:\\Users\\Felipe\\AppData\\Local\\Programs\\Python\\Python310\\lib\\site-packages\\keras\\src\\trainers\\data_adapters\\py_dataset_adapter.py:121: UserWarning: Your `PyDataset` class should call `super().__init__(**kwargs)` in its constructor. `**kwargs` can include `workers`, `use_multiprocessing`, `max_queue_size`. Do not pass these arguments to `fit()`, as they will be ignored.\n",
      "  self._warn_if_super_not_called()\n"
     ]
    },
    {
     "name": "stdout",
     "output_type": "stream",
     "text": [
      "\u001b[1m139/139\u001b[0m \u001b[32m━━━━━━━━━━━━━━━━━━━━\u001b[0m\u001b[37m\u001b[0m \u001b[1m2137s\u001b[0m 15s/step - accuracy: 0.7357 - loss: 0.5562 - val_accuracy: 0.7601 - val_loss: 7.2355\n",
      "Epoch 2/10\n",
      "\u001b[1m  1/139\u001b[0m \u001b[37m━━━━━━━━━━━━━━━━━━━━\u001b[0m \u001b[1m11:47\u001b[0m 5s/step - accuracy: 0.7188 - loss: 0.5159"
     ]
    },
    {
     "name": "stderr",
     "output_type": "stream",
     "text": [
      "c:\\Users\\Felipe\\AppData\\Local\\Programs\\Python\\Python310\\lib\\contextlib.py:153: UserWarning: Your input ran out of data; interrupting training. Make sure that your dataset or generator can generate at least `steps_per_epoch * epochs` batches. You may need to use the `.repeat()` function when building your dataset.\n",
      "  self.gen.throw(typ, value, traceback)\n"
     ]
    },
    {
     "name": "stdout",
     "output_type": "stream",
     "text": [
      "\u001b[1m139/139\u001b[0m \u001b[32m━━━━━━━━━━━━━━━━━━━━\u001b[0m\u001b[37m\u001b[0m \u001b[1m6s\u001b[0m 8ms/step - accuracy: 0.7188 - loss: 0.5159 - val_accuracy: 0.7586 - val_loss: 22.0178\n",
      "Epoch 3/10\n",
      "\u001b[1m139/139\u001b[0m \u001b[32m━━━━━━━━━━━━━━━━━━━━\u001b[0m\u001b[37m\u001b[0m \u001b[1m2677s\u001b[0m 19s/step - accuracy: 0.8336 - loss: 0.4055 - val_accuracy: 0.7583 - val_loss: 1.7808\n",
      "Epoch 4/10\n",
      "\u001b[1m139/139\u001b[0m \u001b[32m━━━━━━━━━━━━━━━━━━━━\u001b[0m\u001b[37m\u001b[0m \u001b[1m6s\u001b[0m 6ms/step - accuracy: 0.7812 - loss: 0.3894 - val_accuracy: 0.8276 - val_loss: 1.3278\n",
      "Epoch 5/10\n",
      "\u001b[1m139/139\u001b[0m \u001b[32m━━━━━━━━━━━━━━━━━━━━\u001b[0m\u001b[37m\u001b[0m \u001b[1m782s\u001b[0m 6s/step - accuracy: 0.8397 - loss: 0.3873 - val_accuracy: 0.2381 - val_loss: 0.7822\n",
      "Epoch 6/10\n",
      "\u001b[1m139/139\u001b[0m \u001b[32m━━━━━━━━━━━━━━━━━━━━\u001b[0m\u001b[37m\u001b[0m \u001b[1m6s\u001b[0m 6ms/step - accuracy: 0.9062 - loss: 0.2655 - val_accuracy: 0.3103 - val_loss: 0.7378\n",
      "Epoch 7/10\n",
      "\u001b[1m139/139\u001b[0m \u001b[32m━━━━━━━━━━━━━━━━━━━━\u001b[0m\u001b[37m\u001b[0m \u001b[1m782s\u001b[0m 6s/step - accuracy: 0.8500 - loss: 0.3551 - val_accuracy: 0.7574 - val_loss: 0.5883\n",
      "Epoch 8/10\n",
      "\u001b[1m139/139\u001b[0m \u001b[32m━━━━━━━━━━━━━━━━━━━━\u001b[0m\u001b[37m\u001b[0m \u001b[1m6s\u001b[0m 6ms/step - accuracy: 0.8750 - loss: 0.3739 - val_accuracy: 0.7586 - val_loss: 0.6058\n",
      "Epoch 9/10\n",
      "\u001b[1m139/139\u001b[0m \u001b[32m━━━━━━━━━━━━━━━━━━━━\u001b[0m\u001b[37m\u001b[0m \u001b[1m765s\u001b[0m 5s/step - accuracy: 0.8605 - loss: 0.3392 - val_accuracy: 0.7491 - val_loss: 0.6051\n",
      "Epoch 10/10\n",
      "\u001b[1m139/139\u001b[0m \u001b[32m━━━━━━━━━━━━━━━━━━━━\u001b[0m\u001b[37m\u001b[0m \u001b[1m6s\u001b[0m 6ms/step - accuracy: 0.8750 - loss: 0.2923 - val_accuracy: 0.6897 - val_loss: 0.6858\n"
     ]
    }
   ],
   "source": [
    "train_datagen = ImageDataGenerator(rescale=1./255, horizontal_flip=True, vertical_flip=True, rotation_range=90, zoom_range=0.2)\n",
    "test_datagen = ImageDataGenerator(rescale=1./255)\n",
    "\n",
    "train_generator = train_datagen.flow_from_dataframe(\n",
    "    train_df,\n",
    "    x_col='image_path',  # Assuming the path to the cropped image is in the 'image_path' column\n",
    "    y_col='binary_class',\n",
    "    target_size=(224, 224),\n",
    "    batch_size=32,\n",
    "    class_mode='binary'\n",
    ")\n",
    "\n",
    "test_generator = test_datagen.flow_from_dataframe(\n",
    "    test_df,\n",
    "    x_col='image_path',  # Assuming the path to the cropped image is in the 'image_path' column\n",
    "    y_col='binary_class',\n",
    "    target_size=(224, 224),\n",
    "    batch_size=32,\n",
    "    class_mode='binary'\n",
    ")\n",
    "\n",
    "# Load the EfficientNetB0 model with pre-trained ImageNet weights\n",
    "base_model = EfficientNetB0(weights='imagenet', include_top=False, input_shape=(224, 224, 3))\n",
    "\n",
    "# Add custom layers for binary classification\n",
    "x = base_model.output\n",
    "x = GlobalAveragePooling2D()(x)\n",
    "x = Dropout(0.5)(x)\n",
    "x = Dense(1024, activation='relu')(x)\n",
    "predictions = Dense(1, activation='sigmoid')(x)\n",
    "\n",
    "# Create the model\n",
    "model = Model(inputs=base_model.input, outputs=predictions)\n",
    "\n",
    "# Compile the model\n",
    "model.compile(optimizer='adam', loss='binary_crossentropy', metrics=['accuracy'])\n",
    "\n",
    "# Train the model\n",
    "history = model.fit(\n",
    "    train_generator,\n",
    "    steps_per_epoch=train_generator.n // train_generator.batch_size,\n",
    "    validation_data=test_generator,\n",
    "    validation_steps=test_generator.n // test_generator.batch_size,\n",
    "    epochs=10\n",
    ")\n",
    "\n"
   ]
  },
  {
   "cell_type": "code",
   "execution_count": null,
   "metadata": {},
   "outputs": [],
   "source": [
    "test_loss, test_accuracy = model.evaluate(test_generator)\n",
    "print(f\"Test accuracy: {test_accuracy * 100:.2f}%\")"
   ]
  },
  {
   "cell_type": "code",
   "execution_count": null,
   "metadata": {},
   "outputs": [],
   "source": [
    "# Plot training & validation accuracy values\n",
    "plt.figure(figsize=(12, 4))\n",
    "\n",
    "plt.subplot(1, 2, 1)\n",
    "plt.plot(history.history['accuracy'])\n",
    "plt.plot(history.history['val_accuracy'])\n",
    "plt.title('Model accuracy')\n",
    "plt.xlabel('Epoch')\n",
    "plt.ylabel('Accuracy')\n",
    "plt.legend(['Train', 'Test'], loc='upper left')\n",
    "\n",
    "# Plot training & validation loss values\n",
    "plt.subplot(1, 2, 2)\n",
    "plt.plot(history.history['loss'])\n",
    "plt.plot(history.history['val_loss'])\n",
    "plt.title('Model loss')\n",
    "plt.xlabel('Epoch')\n",
    "plt.ylabel('Loss')\n",
    "plt.legend(['Train', 'Test'], loc='upper left')\n",
    "\n",
    "plt.tight_layout()\n",
    "plt.show()"
   ]
  },
  {
   "cell_type": "code",
   "execution_count": 84,
   "metadata": {},
   "outputs": [],
   "source": [
    "model.save('efficientnet_binary_classifier.keras')"
   ]
  },
  {
   "cell_type": "markdown",
   "metadata": {},
   "source": [
    "#### Multiclass EfficientNet"
   ]
  },
  {
   "cell_type": "markdown",
   "metadata": {},
   "source": [
    "##### Data Preparation for Multi-Class Classification"
   ]
  },
  {
   "cell_type": "code",
   "execution_count": 30,
   "metadata": {},
   "outputs": [],
   "source": [
    "df = data.copy()\n",
    "\n",
    "df['bethesda_system'] = df['bethesda_system'].replace('Negative for intraepithelial lesion', 'Negative_for_intraepithelial_lesion')\n",
    "df['image_path'] = df.apply(lambda row: os.path.join(CLASSES_PATH, row['bethesda_system'], f\"{row['cell_id']}.png\"), axis=1)\n",
    "\n",
    "df['image_path'] = df['image_path'].astype(str)\n",
    "df['bethesda_system'] = df['bethesda_system'].astype(str)"
   ]
  },
  {
   "cell_type": "code",
   "execution_count": 31,
   "metadata": {},
   "outputs": [],
   "source": [
    "train_df, test_df = train_test_split(df, test_size=0.2, random_state=49, stratify=df['bethesda_system'])"
   ]
  },
  {
   "cell_type": "code",
   "execution_count": 32,
   "metadata": {},
   "outputs": [
    {
     "name": "stdout",
     "output_type": "stream",
     "text": [
      "Found 4464 validated image filenames belonging to 6 classes.\n",
      "Found 1117 validated image filenames belonging to 6 classes.\n"
     ]
    }
   ],
   "source": [
    "train_datagen = ImageDataGenerator(rescale=1./255, horizontal_flip=True, vertical_flip=True, rotation_range=90, zoom_range=0.2)\n",
    "test_datagen = ImageDataGenerator(rescale=1./255)\n",
    "\n",
    "train_generator = train_datagen.flow_from_dataframe(\n",
    "    train_df,\n",
    "    x_col='image_path',  # Updated to use the full path\n",
    "    y_col='bethesda_system',\n",
    "    target_size=(224, 224),  # Change to (100, 100) if using original image size\n",
    "    batch_size=32,\n",
    "    class_mode='categorical'\n",
    ")\n",
    "\n",
    "test_generator = test_datagen.flow_from_dataframe(\n",
    "    test_df,\n",
    "    x_col='image_path',  # Updated to use the full path\n",
    "    y_col='bethesda_system',\n",
    "    target_size=(224, 224),  # Change to (100, 100) if using original image size\n",
    "    batch_size=32,\n",
    "    class_mode='categorical'\n",
    ")"
   ]
  },
  {
   "cell_type": "markdown",
   "metadata": {},
   "source": [
    "##### Build the EfficientNet Model for Multi-Class Classification"
   ]
  },
  {
   "cell_type": "code",
   "execution_count": 1,
   "metadata": {},
   "outputs": [
    {
     "ename": "NameError",
     "evalue": "name 'train_generator' is not defined",
     "output_type": "error",
     "traceback": [
      "\u001b[1;31m---------------------------------------------------------------------------\u001b[0m",
      "\u001b[1;31mNameError\u001b[0m                                 Traceback (most recent call last)",
      "Cell \u001b[1;32mIn[1], line 2\u001b[0m\n\u001b[0;32m      1\u001b[0m \u001b[38;5;66;03m# Get the number of classes from the training generator\u001b[39;00m\n\u001b[1;32m----> 2\u001b[0m num_classes \u001b[38;5;241m=\u001b[39m \u001b[38;5;28mlen\u001b[39m(\u001b[43mtrain_generator\u001b[49m\u001b[38;5;241m.\u001b[39mclass_indices)\n\u001b[0;32m      4\u001b[0m \u001b[38;5;66;03m# Load the EfficientNetB0 model, excluding the top layers\u001b[39;00m\n\u001b[0;32m      5\u001b[0m base_model \u001b[38;5;241m=\u001b[39m EfficientNetB0(weights\u001b[38;5;241m=\u001b[39m\u001b[38;5;124m'\u001b[39m\u001b[38;5;124mimagenet\u001b[39m\u001b[38;5;124m'\u001b[39m, include_top\u001b[38;5;241m=\u001b[39m\u001b[38;5;28;01mFalse\u001b[39;00m, input_shape\u001b[38;5;241m=\u001b[39m(\u001b[38;5;241m224\u001b[39m, \u001b[38;5;241m224\u001b[39m, \u001b[38;5;241m3\u001b[39m))\n",
      "\u001b[1;31mNameError\u001b[0m: name 'train_generator' is not defined"
     ]
    }
   ],
   "source": [
    "# Get the number of classes from the training generator\n",
    "num_classes = len(train_generator.class_indices)\n",
    "\n",
    "# Load the EfficientNetB0 model, excluding the top layers\n",
    "base_model = EfficientNetB0(weights='imagenet', include_top=False, input_shape=(224, 224, 3))\n",
    "\n",
    "# Add custom layers on top\n",
    "x = base_model.output\n",
    "x = GlobalAveragePooling2D()(x)  # Pool the features globally\n",
    "x = Dropout(0.5)(x)  # Add dropout for regularization\n",
    "x = Dense(128, activation='relu')(x)  # Dense layer with ReLU activation\n",
    "x = Dropout(0.5)(x)  # Another dropout layer for regularization\n",
    "predictions = Dense(num_classes, activation='softmax')(x)  # Output layer with softmax activation for multi-class classification\n",
    "\n",
    "# Create the final model\n",
    "model = Model(inputs=base_model.input, outputs=predictions)\n",
    "\n",
    "# Compile the model\n",
    "model.compile(optimizer=Adam(learning_rate=0.001), loss='categorical_crossentropy', metrics=['accuracy'])\n",
    "\n",
    "# Debug: Summary of the model\n",
    "#model.summary()\n"
   ]
  },
  {
   "cell_type": "code",
   "execution_count": 37,
   "metadata": {},
   "outputs": [
    {
     "name": "stdout",
     "output_type": "stream",
     "text": [
      "Epoch 1/10\n"
     ]
    },
    {
     "name": "stderr",
     "output_type": "stream",
     "text": [
      "c:\\Users\\Felipe\\AppData\\Local\\Programs\\Python\\Python310\\lib\\site-packages\\keras\\src\\trainers\\data_adapters\\py_dataset_adapter.py:121: UserWarning: Your `PyDataset` class should call `super().__init__(**kwargs)` in its constructor. `**kwargs` can include `workers`, `use_multiprocessing`, `max_queue_size`. Do not pass these arguments to `fit()`, as they will be ignored.\n",
      "  self._warn_if_super_not_called()\n"
     ]
    },
    {
     "name": "stdout",
     "output_type": "stream",
     "text": [
      "\u001b[1m140/140\u001b[0m \u001b[32m━━━━━━━━━━━━━━━━━━━━\u001b[0m\u001b[37m\u001b[0m \u001b[1m1618s\u001b[0m 11s/step - accuracy: 0.7115 - loss: 0.9805 - val_accuracy: 0.7601 - val_loss: 1.1023\n",
      "Epoch 2/10\n",
      "\u001b[1m140/140\u001b[0m \u001b[32m━━━━━━━━━━━━━━━━━━━━\u001b[0m\u001b[37m\u001b[0m \u001b[1m1140s\u001b[0m 8s/step - accuracy: 0.7779 - loss: 0.7356 - val_accuracy: 0.7126 - val_loss: 1.4642\n",
      "Epoch 3/10\n",
      "\u001b[1m140/140\u001b[0m \u001b[32m━━━━━━━━━━━━━━━━━━━━\u001b[0m\u001b[37m\u001b[0m \u001b[1m2356s\u001b[0m 17s/step - accuracy: 0.7747 - loss: 0.7264 - val_accuracy: 0.7628 - val_loss: 10.4007\n",
      "Epoch 4/10\n",
      "\u001b[1m140/140\u001b[0m \u001b[32m━━━━━━━━━━━━━━━━━━━━\u001b[0m\u001b[37m\u001b[0m \u001b[1m745s\u001b[0m 5s/step - accuracy: 0.7914 - loss: 0.6136 - val_accuracy: 0.7601 - val_loss: 1.7673\n",
      "Epoch 5/10\n",
      "\u001b[1m140/140\u001b[0m \u001b[32m━━━━━━━━━━━━━━━━━━━━\u001b[0m\u001b[37m\u001b[0m \u001b[1m743s\u001b[0m 5s/step - accuracy: 0.8116 - loss: 0.5965 - val_accuracy: 0.7556 - val_loss: 1.2688\n",
      "Epoch 6/10\n",
      "\u001b[1m140/140\u001b[0m \u001b[32m━━━━━━━━━━━━━━━━━━━━\u001b[0m\u001b[37m\u001b[0m \u001b[1m739s\u001b[0m 5s/step - accuracy: 0.7992 - loss: 0.5950 - val_accuracy: 0.7663 - val_loss: 0.9463\n",
      "Epoch 7/10\n",
      "\u001b[1m140/140\u001b[0m \u001b[32m━━━━━━━━━━━━━━━━━━━━\u001b[0m\u001b[37m\u001b[0m \u001b[1m743s\u001b[0m 5s/step - accuracy: 0.8141 - loss: 0.5743 - val_accuracy: 0.7762 - val_loss: 0.7116\n",
      "Epoch 8/10\n",
      "\u001b[1m140/140\u001b[0m \u001b[32m━━━━━━━━━━━━━━━━━━━━\u001b[0m\u001b[37m\u001b[0m \u001b[1m1976s\u001b[0m 14s/step - accuracy: 0.8048 - loss: 0.5528 - val_accuracy: 0.7959 - val_loss: 0.6159\n",
      "Epoch 9/10\n",
      "\u001b[1m140/140\u001b[0m \u001b[32m━━━━━━━━━━━━━━━━━━━━\u001b[0m\u001b[37m\u001b[0m \u001b[1m35076s\u001b[0m 8s/step - accuracy: 0.8145 - loss: 0.5200 - val_accuracy: 0.8048 - val_loss: 0.6475\n",
      "Epoch 10/10\n",
      "\u001b[1m140/140\u001b[0m \u001b[32m━━━━━━━━━━━━━━━━━━━━\u001b[0m\u001b[37m\u001b[0m \u001b[1m744s\u001b[0m 5s/step - accuracy: 0.8266 - loss: 0.5000 - val_accuracy: 0.7923 - val_loss: 0.6720\n"
     ]
    }
   ],
   "source": [
    "# Define early stopping callback\n",
    "early_stopping = EarlyStopping(monitor='val_loss', patience=5, restore_best_weights=True)\n",
    "\n",
    "# Number of epochs\n",
    "epochs = 10\n",
    "\n",
    "# Fit the model\n",
    "history = model.fit(\n",
    "    train_generator,\n",
    "    epochs=epochs,\n",
    "    validation_data=test_generator,\n",
    "    callbacks=[early_stopping]\n",
    ")\n"
   ]
  },
  {
   "cell_type": "code",
   "execution_count": 38,
   "metadata": {},
   "outputs": [
    {
     "name": "stdout",
     "output_type": "stream",
     "text": [
      "\u001b[1m35/35\u001b[0m \u001b[32m━━━━━━━━━━━━━━━━━━━━\u001b[0m\u001b[37m\u001b[0m \u001b[1m28s\u001b[0m 790ms/step - accuracy: 0.7951 - loss: 0.6338\n",
      "Test accuracy: 79.59%\n"
     ]
    }
   ],
   "source": [
    "test_loss, test_accuracy = model.evaluate(test_generator)\n",
    "print(f\"Test accuracy: {test_accuracy * 100:.2f}%\")"
   ]
  },
  {
   "cell_type": "code",
   "execution_count": 39,
   "metadata": {},
   "outputs": [
    {
     "data": {
      "image/png": "[encoded data removed]",
      "text/plain": [
       "<Figure size 1200x400 with 2 Axes>"
      ]
     },
     "metadata": {},
     "output_type": "display_data"
    }
   ],
   "source": [
    "\n",
    "# Plot training & validation accuracy values\n",
    "plt.figure(figsize=(12, 4))\n",
    "\n",
    "plt.subplot(1, 2, 1)\n",
    "plt.plot(history.history['accuracy'])\n",
    "plt.plot(history.history['val_accuracy'])\n",
    "plt.title('Model accuracy')\n",
    "plt.xlabel('Epoch')\n",
    "plt.ylabel('Accuracy')\n",
    "plt.legend(['Train', 'Test'], loc='upper left')\n",
    "\n",
    "# Plot training & validation loss values\n",
    "plt.subplot(1, 2, 2)\n",
    "plt.plot(history.history['loss'])\n",
    "plt.plot(history.history['val_loss'])\n",
    "plt.title('Model loss')\n",
    "plt.xlabel('Epoch')\n",
    "plt.ylabel('Loss')\n",
    "plt.legend(['Train', 'Test'], loc='upper left')\n",
    "\n",
    "plt.tight_layout()\n",
    "plt.show()"
   ]
  },
  {
   "cell_type": "code",
   "execution_count": 40,
   "metadata": {},
   "outputs": [],
   "source": [
    "model.save('efficientnet_multiclass_classifier.keras')"
   ]
  }
 ],
 "metadata": {
  "kernelspec": {
   "display_name": "Python 3",
   "language": "python",
   "name": "python3"
  },
  "language_info": {
   "codemirror_mode": {
    "name": "ipython",
    "version": 3
   },
   "file_extension": ".py",
   "mimetype": "text/x-python",
   "name": "python",
   "nbconvert_exporter": "python",
   "pygments_lexer": "ipython3",
   "version": "3.10.7"
  }
 },
 "nbformat": 4,
 "nbformat_minor": 2
}
