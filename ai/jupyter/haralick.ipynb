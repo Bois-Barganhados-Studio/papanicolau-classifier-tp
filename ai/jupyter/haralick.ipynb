{
 "cells": [
  {
   "cell_type": "code",
   "execution_count": null,
   "metadata": {},
   "outputs": [],
   "source": [
    "#import os\n",
    "#import cv2\n",
    "#import pickle\n",
    "#import numpy as np\n",
    "#import pandas as pd\n",
    "#from skimage.feature import graycomatrix, graycoprops\n",
    "#from PIL import Image\n",
    "#import matplotlib.pylab as plt\n",
    "#import mahotas as mh\n",
    "#from sklearn import svm\n",
    "#from sklearn.svm import SVC\n",
    "#from sklearn.model_selection import train_test_split\n",
    "#from sklearn.metrics import confusion_matrix, accuracy_score, classification_report\n",
    "#from sklearn.utils.class_weight import compute_class_weight\n",
    "#from sklearn.model_selection import RandomizedSearchCV, GridSearchCV\n",
    "#from scipy.stats import uniform, loguniform\n",
    "#import seaborn as sns\n",
    "#import tensorflow as tf\n",
    "#from sklearn.decomposition import PCA\n",
    "#from sklearn.preprocessing import StandardScaler\n",
    "#from imblearn.under_sampling import RandomUnderSampler\n",
    "#from imblearn.over_sampling import SMOTE\n",
    "#from sklearn.pipeline import Pipeline\n",
    "#from keras._tf_keras.keras.preprocessing.image import ImageDataGenerator\n",
    "#from keras._tf_keras.keras.applications import EfficientNetB0\n",
    "#from keras._tf_keras.keras.layers import Dense, GlobalAveragePooling2D, Dropout\n",
    "#from keras._tf_keras.keras.models import Model\n",
    "#from keras._tf_keras.keras.optimizers import Adam\n",
    "#from keras._tf_keras.keras.callbacks import EarlyStopping\n",
    "#from sklearn.model_selection import train_test_split\n",
    "#import shutil\n",
    "#import torch\n",
    "#import torch.nn as nn\n",
    "#import torch.optim as optim\n",
    "#from torchvision import datasets, models, transforms\n",
    "#from torch.utils.data import DataLoader, WeightedRandomSampler"
   ]
  },
  {
   "cell_type": "code",
   "execution_count": null,
   "metadata": {},
   "outputs": [],
   "source": [
    "import numpy as np\n",
    "import pandas as pd\n",
    "from skimage.feature import graycomatrix, graycoprops\n",
    "from PIL import Image"
   ]
  },
  {
   "cell_type": "code",
   "execution_count": null,
   "metadata": {},
   "outputs": [],
   "source": [
    "def quantize_image(image, levels = 16):\n",
    "    grayscale_image = image.convert(\"L\")\n",
    "    quantized_image = np.array(grayscale_image) // (256 // levels)\n",
    "    return quantized_image"
   ]
  },
  {
   "cell_type": "code",
   "execution_count": null,
   "metadata": {},
   "outputs": [],
   "source": [
    "def compute_cooccurrence_matrices(q_img, distances=[1, 2, 4, 8, 16, 32], angles=[0]):\n",
    "    cooccurrence_matrices = graycomatrix(q_img, distances, angles, levels=16, symmetric=True, normed=True)\n",
    "    return cooccurrence_matrices\n"
   ]
  },
  {
   "cell_type": "code",
   "execution_count": null,
   "metadata": {},
   "outputs": [],
   "source": [
    "def compute_glcm(q_img, dists=[1, 2 ,4, 8, 16, 32], angles=[0]):\n",
    "    glcm = graycomatrix(q_img, distances=dists, angles=angles, levels=16, symmetric=True, normed=True)\n",
    "    return glcm"
   ]
  },
  {
   "cell_type": "code",
   "execution_count": null,
   "metadata": {},
   "outputs": [],
   "source": [
    "def compute_haralick_features(glcm):\n",
    "    contrast = graycoprops(glcm, 'contrast').flatten()\n",
    "    homogeneity = graycoprops(glcm, 'homogeneity').flatten()\n",
    "    \n",
    "    # Entropy calculation\n",
    "    glcm_sum = glcm.sum(axis=(0, 1))\n",
    "    norm_glcm = glcm / glcm_sum\n",
    "    entropy = -np.sum(norm_glcm * np.log(norm_glcm + 1e-10), axis=(0, 1)).flatten()\n",
    "    \n",
    "    features = {\n",
    "        'contrast': contrast,\n",
    "        'homogeneity': homogeneity,\n",
    "        'entropy': entropy\n",
    "    }\n",
    "    return features"
   ]
  },
  {
   "cell_type": "code",
   "execution_count": null,
   "metadata": {},
   "outputs": [],
   "source": [
    "img_data = []\n",
    "\n",
    "for index, row in table_data.iterrows():\n",
    "    cell_id = row['cell_id']\n",
    "    img_path = os.path.join(CLASSES_PATH, row['bethesda_system'], f\"{row['cell_id']}.png\")\n",
    "    img_class = row['bethesda_system']\n",
    "\n",
    "    image = Image.open(img_path)\n",
    "\n",
    "    if image is not None:\n",
    "        q_img = quantize_image(image)\n",
    "        glcm = compute_glcm(q_img)\n",
    "        haralick_features = compute_haralick_features(glcm)\n",
    "\n",
    "        img_data.append ({\n",
    "            'cell_id': cell_id,\n",
    "            'image_path': img_path,\n",
    "            'contrast_1': haralick_features['contrast'][0],\n",
    "            'contrast_2': haralick_features['contrast'][1],\n",
    "            'contrast_4': haralick_features['contrast'][2],\n",
    "            'contrast_8': haralick_features['contrast'][3],\n",
    "            'contrast_16': haralick_features['contrast'][4],\n",
    "            'contrast_32': haralick_features['contrast'][5],\n",
    "            'homogeneity_1': haralick_features['homogeneity'][0],\n",
    "            'homogeneity_2': haralick_features['homogeneity'][1],\n",
    "            'homogeneity_4': haralick_features['homogeneity'][2],\n",
    "            'homogeneity_8': haralick_features['homogeneity'][3],\n",
    "            'homogeneity_16': haralick_features['homogeneity'][4],\n",
    "            'homogeneity_32': haralick_features['homogeneity'][5],\n",
    "            'entropy_1': haralick_features['entropy'][0],\n",
    "            'entropy_2': haralick_features['entropy'][1],\n",
    "            'entropy_4': haralick_features['entropy'][2],\n",
    "            'entropy_8': haralick_features['entropy'][3],\n",
    "            'entropy_16': haralick_features['entropy'][4],\n",
    "            'entropy_32': haralick_features['entropy'][5],\n",
    "            'img_class': img_class\n",
    "        })\n",
    "        \n",
    "dataset = pd.DataFrame(img_data)"
   ]
  }
 ],
 "metadata": {
  "language_info": {
   "name": "python"
  }
 },
 "nbformat": 4,
 "nbformat_minor": 2
}
